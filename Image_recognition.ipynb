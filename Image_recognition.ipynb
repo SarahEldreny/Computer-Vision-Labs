{
  "cells": [
    {
      "cell_type": "markdown",
      "metadata": {
        "id": "view-in-github",
        "colab_type": "text"
      },
      "source": [
        "<a href=\"https://colab.research.google.com/github/SarahEldreny/Computer-Vision-Labs/blob/main/Image_recognition.ipynb\" target=\"_parent\"><img src=\"https://colab.research.google.com/assets/colab-badge.svg\" alt=\"Open In Colab\"/></a>"
      ]
    },
    {
      "cell_type": "markdown",
      "metadata": {
        "id": "Or8OQ3vX6Jbh"
      },
      "source": [
        "# Building an image recognition neural network"
      ]
    },
    {
      "cell_type": "code",
      "execution_count": 1,
      "metadata": {
        "id": "_Gw97Xgc6Jbi"
      },
      "outputs": [],
      "source": [
        "import numpy as np\n",
        "import pandas as pd\n",
        "import matplotlib.pyplot as plt\n",
        "from tensorflow import keras\n",
        "\n",
        "# Setting random seeds to get reproducible results\n",
        "np.random.seed(0)\n",
        "import tensorflow as tf\n",
        "tf.random.set_seed(1)"
      ]
    },
    {
      "cell_type": "markdown",
      "metadata": {
        "id": "fHe_9hpR6Jbj"
      },
      "source": [
        "### Importing and reading the dataset"
      ]
    },
    {
      "cell_type": "code",
      "execution_count": 2,
      "metadata": {
        "colab": {
          "base_uri": "https://localhost:8080/"
        },
        "id": "rhq-WfIy6Jbk",
        "outputId": "280d1eea-c726-4503-e63d-2f17f2c6ef6d"
      },
      "outputs": [
        {
          "output_type": "stream",
          "name": "stdout",
          "text": [
            "Downloading data from https://storage.googleapis.com/tensorflow/tf-keras-datasets/mnist.npz\n",
            "11490434/11490434 [==============================] - 0s 0us/step\n",
            "Size of the training set 60000\n",
            "Size of the testing set 10000\n"
          ]
        }
      ],
      "source": [
        "(x_train, y_train), (x_test, y_test) = keras.datasets.mnist.load_data()\n",
        "print(\"Size of the training set\", len(x_train))\n",
        "print(\"Size of the testing set\", len(x_test))"
      ]
    },
    {
      "cell_type": "code",
      "execution_count": 3,
      "metadata": {
        "colab": {
          "base_uri": "https://localhost:8080/",
          "height": 448
        },
        "id": "gxm9BEOX6Jbl",
        "outputId": "674e0c6e-ab90-4162-dc9b-e7a542e71c70"
      },
      "outputs": [
        {
          "output_type": "stream",
          "name": "stdout",
          "text": [
            "The label is 2\n"
          ]
        },
        {
          "output_type": "display_data",
          "data": {
            "text/plain": [
              "<Figure size 640x480 with 1 Axes>"
            ],
            "image/png": "[encoded data removed]"
          },
          "metadata": {}
        }
      ],
      "source": [
        "plt.imshow(x_train[5], cmap='Greys')\n",
        "print(\"The label is\", y_train[5])"
      ]
    },
    {
      "cell_type": "code",
      "execution_count": 4,
      "metadata": {
        "colab": {
          "base_uri": "https://localhost:8080/",
          "height": 260
        },
        "id": "cNHenEW96Jbl",
        "outputId": "ae375c94-5eb4-4543-d741-be1def90e9b6"
      },
      "outputs": [
        {
          "output_type": "display_data",
          "data": {
            "text/plain": [
              "<Figure size 2000x2000 with 5 Axes>"
            ],
            "image/png": "[encoded data removed]"
          },
          "metadata": {}
        }
      ],
      "source": [
        "fig = plt.figure(figsize=(20,20))\n",
        "for i in range(5):\n",
        "    ax = fig.add_subplot(1, 5, i+1, xticks=[], yticks=[])\n",
        "    ax.imshow(x_train[i], cmap='Greys')\n",
        "    ax.set_title('Label:' + str(y_train[i]))"
      ]
    },
    {
      "cell_type": "markdown",
      "metadata": {
        "id": "evEeAiCH6Jbm"
      },
      "source": [
        "### Pre-processing the data"
      ]
    },
    {
      "cell_type": "code",
      "execution_count": 5,
      "metadata": {
        "id": "OTArcgS86Jbm"
      },
      "outputs": [],
      "source": [
        "# Reshaping the features.\n",
        "# In the reshape function we use the -1 as a placeholder for the size of the dataset.\n",
        "\n",
        "x_train_reshaped = x_train.reshape(-1, 28*28)\n",
        "x_test_reshaped = x_test.reshape(-1, 28*28)"
      ]
    },
    {
      "cell_type": "code",
      "execution_count": 6,
      "metadata": {
        "id": "KR8S_yRk6Jbn"
      },
      "outputs": [],
      "source": [
        "from tensorflow.keras.utils import to_categorical\n",
        "y_train_cat = to_categorical(y_train, 10)\n",
        "y_test_cat = to_categorical(y_test, 10)"
      ]
    },
    {
      "cell_type": "markdown",
      "metadata": {
        "id": "lMYNkz736Jbo"
      },
      "source": [
        "### Building and training the neural network"
      ]
    },
    {
      "cell_type": "code",
      "execution_count": 7,
      "metadata": {
        "colab": {
          "base_uri": "https://localhost:8080/"
        },
        "id": "BgP-0zqj6Jbp",
        "outputId": "0256c6a0-409d-4a9c-8686-aefa644a24a0"
      },
      "outputs": [
        {
          "output_type": "stream",
          "name": "stdout",
          "text": [
            "Model: \"sequential\"\n",
            "_________________________________________________________________\n",
            " Layer (type)                Output Shape              Param #   \n",
            "=================================================================\n",
            " dense (Dense)               (None, 128)               100480    \n",
            "                                                                 \n",
            " dropout (Dropout)           (None, 128)               0         \n",
            "                                                                 \n",
            " dense_1 (Dense)             (None, 64)                8256      \n",
            "                                                                 \n",
            " dropout_1 (Dropout)         (None, 64)                0         \n",
            "                                                                 \n",
            " dense_2 (Dense)             (None, 10)                650       \n",
            "                                                                 \n",
            "=================================================================\n",
            "Total params: 109386 (427.29 KB)\n",
            "Trainable params: 109386 (427.29 KB)\n",
            "Non-trainable params: 0 (0.00 Byte)\n",
            "_________________________________________________________________\n"
          ]
        }
      ],
      "source": [
        "# Imports\n",
        "#import numpy as np\n",
        "from tensorflow.keras.models import Sequential\n",
        "from tensorflow.keras.layers import Dense, Dropout\n",
        "#from tensorflow.keras.layers import Dense, Dropout, Activation\n",
        "#from tensorflow.keras.optimizers import SGD\n",
        "\n",
        "# Building the model\n",
        "model = Sequential()\n",
        "model.add(Dense(128, activation='relu', input_shape=(28*28,)))\n",
        "model.add(Dropout(.2))\n",
        "model.add(Dense(64, activation='relu'))\n",
        "model.add(Dropout(.2))\n",
        "model.add(Dense(10, activation='softmax'))\n",
        "\n",
        "# Compiling the model\n",
        "model.compile(loss = 'categorical_crossentropy', optimizer='adam', metrics=['accuracy'])\n",
        "model.summary()"
      ]
    },
    {
      "cell_type": "code",
      "execution_count": 8,
      "metadata": {
        "colab": {
          "base_uri": "https://localhost:8080/"
        },
        "id": "KPR5ihhA6Jbq",
        "outputId": "1d69519b-20eb-4ec8-c2d3-00e011fde22a"
      },
      "outputs": [
        {
          "output_type": "stream",
          "name": "stdout",
          "text": [
            "Epoch 1/10\n",
            "6000/6000 [==============================] - 25s 4ms/step - loss: 2.0126 - accuracy: 0.6007\n",
            "Epoch 2/10\n",
            "6000/6000 [==============================] - 23s 4ms/step - loss: 0.7460 - accuracy: 0.7875\n",
            "Epoch 3/10\n",
            "6000/6000 [==============================] - 25s 4ms/step - loss: 0.5537 - accuracy: 0.8527\n",
            "Epoch 4/10\n",
            "6000/6000 [==============================] - 24s 4ms/step - loss: 0.4660 - accuracy: 0.8795\n",
            "Epoch 5/10\n",
            "6000/6000 [==============================] - 22s 4ms/step - loss: 0.4154 - accuracy: 0.8921\n",
            "Epoch 6/10\n",
            "6000/6000 [==============================] - 25s 4ms/step - loss: 0.4027 - accuracy: 0.9000\n",
            "Epoch 7/10\n",
            "6000/6000 [==============================] - 23s 4ms/step - loss: 0.3809 - accuracy: 0.9056\n",
            "Epoch 8/10\n",
            "6000/6000 [==============================] - 23s 4ms/step - loss: 0.3837 - accuracy: 0.9086\n",
            "Epoch 9/10\n",
            "6000/6000 [==============================] - 24s 4ms/step - loss: 0.3729 - accuracy: 0.9114\n",
            "Epoch 10/10\n",
            "6000/6000 [==============================] - 22s 4ms/step - loss: 0.3662 - accuracy: 0.9138\n"
          ]
        },
        {
          "output_type": "execute_result",
          "data": {
            "text/plain": [
              "<keras.src.callbacks.History at 0x7e4b77db9f60>"
            ]
          },
          "metadata": {},
          "execution_count": 8
        }
      ],
      "source": [
        "model.fit(x_train_reshaped, y_train_cat, epochs=10, batch_size=10)"
      ]
    },
    {
      "cell_type": "markdown",
      "metadata": {
        "id": "od0tld0e6Jbq"
      },
      "source": [
        "### Making predictions"
      ]
    },
    {
      "cell_type": "code",
      "execution_count": 9,
      "metadata": {
        "colab": {
          "base_uri": "https://localhost:8080/"
        },
        "id": "3X_354586Jbq",
        "outputId": "31184045-b98e-4b45-eeb5-e54a90317e32"
      },
      "outputs": [
        {
          "output_type": "stream",
          "name": "stdout",
          "text": [
            "313/313 [==============================] - 1s 3ms/step\n"
          ]
        }
      ],
      "source": [
        "predictions_vector = model.predict(x_test_reshaped)"
      ]
    },
    {
      "cell_type": "code",
      "execution_count": 10,
      "metadata": {
        "id": "DQCzumpb6Jbr"
      },
      "outputs": [],
      "source": [
        "predictions = [np.argmax(pred) for pred in predictions_vector]"
      ]
    },
    {
      "cell_type": "code",
      "execution_count": 11,
      "metadata": {
        "colab": {
          "base_uri": "https://localhost:8080/",
          "height": 442
        },
        "id": "67wgONsX6Jbr",
        "outputId": "0149359f-25c3-4104-ec75-d8bb6ad725e2"
      },
      "outputs": [
        {
          "output_type": "stream",
          "name": "stdout",
          "text": [
            "The label is 4\n",
            "The prediction is 4\n"
          ]
        },
        {
          "output_type": "display_data",
          "data": {
            "text/plain": [
              "<Figure size 640x480 with 1 Axes>"
            ],
            "image/png": "[encoded data removed]"
          },
          "metadata": {}
        }
      ],
      "source": [
        "plt.imshow(x_test[4], cmap='Greys')\n",
        "plt.xticks([])\n",
        "plt.yticks([])\n",
        "print(\"The label is\", y_test[4])\n",
        "print(\"The prediction is\", predictions[4])"
      ]
    },
    {
      "cell_type": "markdown",
      "metadata": {
        "id": "jyj51x2M6Jbs"
      },
      "source": [
        "Sometimes the model makes mistakes too."
      ]
    },
    {
      "cell_type": "code",
      "execution_count": 12,
      "metadata": {
        "colab": {
          "base_uri": "https://localhost:8080/",
          "height": 442
        },
        "id": "SgtdHVUi6Jbs",
        "outputId": "194cf937-1867-42a6-b2a1-2a4aaf3911f5"
      },
      "outputs": [
        {
          "output_type": "stream",
          "name": "stdout",
          "text": [
            "The label is 3\n",
            "The prediction is 3\n"
          ]
        },
        {
          "output_type": "display_data",
          "data": {
            "text/plain": [
              "<Figure size 640x480 with 1 Axes>"
            ],
            "image/png": "[encoded data removed]"
          },
          "metadata": {}
        }
      ],
      "source": [
        "plt.imshow(x_test[18], cmap='Greys')\n",
        "plt.xticks([])\n",
        "plt.yticks([])\n",
        "print(\"The label is\", y_test[18])\n",
        "print(\"The prediction is\", predictions[18])"
      ]
    },
    {
      "cell_type": "markdown",
      "metadata": {
        "id": "QL98d8AZ6Jbs"
      },
      "source": [
        "### Finding the accuracy of the model on the test set"
      ]
    },
    {
      "cell_type": "code",
      "execution_count": 13,
      "metadata": {
        "colab": {
          "base_uri": "https://localhost:8080/"
        },
        "id": "h04gnKxr6Jbs",
        "outputId": "beac68f0-a274-4a86-bc90-4943da0123e1"
      },
      "outputs": [
        {
          "output_type": "stream",
          "name": "stdout",
          "text": [
            "The model is correct 9456 times out of 10000\n",
            "The accuracy is 0.9456\n"
          ]
        }
      ],
      "source": [
        "num_correct = 0\n",
        "for i in range(len(predictions)):\n",
        "    if predictions[i] == y_test[i]:\n",
        "        num_correct += 1\n",
        "\n",
        "print(\"The model is correct\", num_correct, \"times out of\", len(y_test))\n",
        "print(\"The accuracy is\", num_correct/len(y_test))"
      ]
    }
  ],
  "metadata": {
    "kernelspec": {
      "display_name": "Python 3",
      "language": "python",
      "name": "python3"
    },
    "language_info": {
      "codemirror_mode": {
        "name": "ipython",
        "version": 3
      },
      "file_extension": ".py",
      "mimetype": "text/x-python",
      "name": "python",
      "nbconvert_exporter": "python",
      "pygments_lexer": "ipython3",
      "version": "3.7.6"
    },
    "colab": {
      "provenance": [],
      "include_colab_link": true
    }
  },
  "nbformat": 4,
  "nbformat_minor": 0
}